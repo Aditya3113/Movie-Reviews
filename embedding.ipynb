{
 "cells": [
  {
   "cell_type": "code",
   "execution_count": 1,
   "metadata": {},
   "outputs": [
    {
     "name": "stdout",
     "output_type": "stream",
     "text": [
      "Requirement already satisfied: pandas in /opt/anaconda3/lib/python3.12/site-packages (2.2.2)\n",
      "Requirement already satisfied: numpy>=1.26.0 in /opt/anaconda3/lib/python3.12/site-packages (from pandas) (1.26.4)\n",
      "Requirement already satisfied: python-dateutil>=2.8.2 in /opt/anaconda3/lib/python3.12/site-packages (from pandas) (2.9.0.post0)\n",
      "Requirement already satisfied: pytz>=2020.1 in /opt/anaconda3/lib/python3.12/site-packages (from pandas) (2024.1)\n",
      "Requirement already satisfied: tzdata>=2022.7 in /opt/anaconda3/lib/python3.12/site-packages (from pandas) (2023.3)\n",
      "Requirement already satisfied: six>=1.5 in /opt/anaconda3/lib/python3.12/site-packages (from python-dateutil>=2.8.2->pandas) (1.16.0)\n"
     ]
    }
   ],
   "source": [
    "!pip install pandas"
   ]
  },
  {
   "cell_type": "code",
   "execution_count": 2,
   "metadata": {},
   "outputs": [
    {
     "name": "stdout",
     "output_type": "stream",
     "text": [
      "Requirement already satisfied: tensorflow-macos==2.16.1 in /opt/anaconda3/lib/python3.12/site-packages (2.16.1)\n",
      "Requirement already satisfied: tensorflow==2.16.1 in /opt/anaconda3/lib/python3.12/site-packages (from tensorflow-macos==2.16.1) (2.16.1)\n",
      "Requirement already satisfied: absl-py>=1.0.0 in /opt/anaconda3/lib/python3.12/site-packages (from tensorflow==2.16.1->tensorflow-macos==2.16.1) (2.3.0)\n",
      "Requirement already satisfied: astunparse>=1.6.0 in /opt/anaconda3/lib/python3.12/site-packages (from tensorflow==2.16.1->tensorflow-macos==2.16.1) (1.6.3)\n",
      "Requirement already satisfied: flatbuffers>=23.5.26 in /opt/anaconda3/lib/python3.12/site-packages (from tensorflow==2.16.1->tensorflow-macos==2.16.1) (25.2.10)\n",
      "Requirement already satisfied: gast!=0.5.0,!=0.5.1,!=0.5.2,>=0.2.1 in /opt/anaconda3/lib/python3.12/site-packages (from tensorflow==2.16.1->tensorflow-macos==2.16.1) (0.6.0)\n",
      "Requirement already satisfied: google-pasta>=0.1.1 in /opt/anaconda3/lib/python3.12/site-packages (from tensorflow==2.16.1->tensorflow-macos==2.16.1) (0.2.0)\n",
      "Requirement already satisfied: h5py>=3.10.0 in /opt/anaconda3/lib/python3.12/site-packages (from tensorflow==2.16.1->tensorflow-macos==2.16.1) (3.11.0)\n",
      "Requirement already satisfied: libclang>=13.0.0 in /opt/anaconda3/lib/python3.12/site-packages (from tensorflow==2.16.1->tensorflow-macos==2.16.1) (18.1.1)\n",
      "Requirement already satisfied: ml-dtypes~=0.3.1 in /opt/anaconda3/lib/python3.12/site-packages (from tensorflow==2.16.1->tensorflow-macos==2.16.1) (0.3.2)\n",
      "Requirement already satisfied: opt-einsum>=2.3.2 in /opt/anaconda3/lib/python3.12/site-packages (from tensorflow==2.16.1->tensorflow-macos==2.16.1) (3.4.0)\n",
      "Requirement already satisfied: packaging in /opt/anaconda3/lib/python3.12/site-packages (from tensorflow==2.16.1->tensorflow-macos==2.16.1) (24.1)\n",
      "Requirement already satisfied: protobuf!=4.21.0,!=4.21.1,!=4.21.2,!=4.21.3,!=4.21.4,!=4.21.5,<5.0.0dev,>=3.20.3 in /opt/anaconda3/lib/python3.12/site-packages (from tensorflow==2.16.1->tensorflow-macos==2.16.1) (4.25.3)\n",
      "Requirement already satisfied: requests<3,>=2.21.0 in /opt/anaconda3/lib/python3.12/site-packages (from tensorflow==2.16.1->tensorflow-macos==2.16.1) (2.32.3)\n",
      "Requirement already satisfied: setuptools in /opt/anaconda3/lib/python3.12/site-packages (from tensorflow==2.16.1->tensorflow-macos==2.16.1) (80.9.0)\n",
      "Requirement already satisfied: six>=1.12.0 in /opt/anaconda3/lib/python3.12/site-packages (from tensorflow==2.16.1->tensorflow-macos==2.16.1) (1.16.0)\n",
      "Requirement already satisfied: termcolor>=1.1.0 in /opt/anaconda3/lib/python3.12/site-packages (from tensorflow==2.16.1->tensorflow-macos==2.16.1) (3.1.0)\n",
      "Requirement already satisfied: typing-extensions>=3.6.6 in /opt/anaconda3/lib/python3.12/site-packages (from tensorflow==2.16.1->tensorflow-macos==2.16.1) (4.11.0)\n",
      "Requirement already satisfied: wrapt>=1.11.0 in /opt/anaconda3/lib/python3.12/site-packages (from tensorflow==2.16.1->tensorflow-macos==2.16.1) (1.14.1)\n",
      "Requirement already satisfied: grpcio<2.0,>=1.24.3 in /opt/anaconda3/lib/python3.12/site-packages (from tensorflow==2.16.1->tensorflow-macos==2.16.1) (1.73.0)\n",
      "Requirement already satisfied: tensorboard<2.17,>=2.16 in /opt/anaconda3/lib/python3.12/site-packages (from tensorflow==2.16.1->tensorflow-macos==2.16.1) (2.16.2)\n",
      "Requirement already satisfied: keras>=3.0.0 in /opt/anaconda3/lib/python3.12/site-packages (from tensorflow==2.16.1->tensorflow-macos==2.16.1) (3.10.0)\n",
      "Requirement already satisfied: numpy<2.0.0,>=1.26.0 in /opt/anaconda3/lib/python3.12/site-packages (from tensorflow==2.16.1->tensorflow-macos==2.16.1) (1.26.4)\n",
      "Requirement already satisfied: charset-normalizer<4,>=2 in /opt/anaconda3/lib/python3.12/site-packages (from requests<3,>=2.21.0->tensorflow==2.16.1->tensorflow-macos==2.16.1) (3.3.2)\n",
      "Requirement already satisfied: idna<4,>=2.5 in /opt/anaconda3/lib/python3.12/site-packages (from requests<3,>=2.21.0->tensorflow==2.16.1->tensorflow-macos==2.16.1) (3.7)\n",
      "Requirement already satisfied: urllib3<3,>=1.21.1 in /opt/anaconda3/lib/python3.12/site-packages (from requests<3,>=2.21.0->tensorflow==2.16.1->tensorflow-macos==2.16.1) (2.2.3)\n",
      "Requirement already satisfied: certifi>=2017.4.17 in /opt/anaconda3/lib/python3.12/site-packages (from requests<3,>=2.21.0->tensorflow==2.16.1->tensorflow-macos==2.16.1) (2025.1.31)\n",
      "Requirement already satisfied: markdown>=2.6.8 in /opt/anaconda3/lib/python3.12/site-packages (from tensorboard<2.17,>=2.16->tensorflow==2.16.1->tensorflow-macos==2.16.1) (3.4.1)\n",
      "Requirement already satisfied: tensorboard-data-server<0.8.0,>=0.7.0 in /opt/anaconda3/lib/python3.12/site-packages (from tensorboard<2.17,>=2.16->tensorflow==2.16.1->tensorflow-macos==2.16.1) (0.7.2)\n",
      "Requirement already satisfied: werkzeug>=1.0.1 in /opt/anaconda3/lib/python3.12/site-packages (from tensorboard<2.17,>=2.16->tensorflow==2.16.1->tensorflow-macos==2.16.1) (3.0.3)\n",
      "Requirement already satisfied: wheel<1.0,>=0.23.0 in /opt/anaconda3/lib/python3.12/site-packages (from astunparse>=1.6.0->tensorflow==2.16.1->tensorflow-macos==2.16.1) (0.45.1)\n",
      "Requirement already satisfied: rich in /opt/anaconda3/lib/python3.12/site-packages (from keras>=3.0.0->tensorflow==2.16.1->tensorflow-macos==2.16.1) (13.7.1)\n",
      "Requirement already satisfied: namex in /opt/anaconda3/lib/python3.12/site-packages (from keras>=3.0.0->tensorflow==2.16.1->tensorflow-macos==2.16.1) (0.1.0)\n",
      "Requirement already satisfied: optree in /opt/anaconda3/lib/python3.12/site-packages (from keras>=3.0.0->tensorflow==2.16.1->tensorflow-macos==2.16.1) (0.16.0)\n",
      "Requirement already satisfied: MarkupSafe>=2.1.1 in /opt/anaconda3/lib/python3.12/site-packages (from werkzeug>=1.0.1->tensorboard<2.17,>=2.16->tensorflow==2.16.1->tensorflow-macos==2.16.1) (2.1.3)\n",
      "Requirement already satisfied: markdown-it-py>=2.2.0 in /opt/anaconda3/lib/python3.12/site-packages (from rich->keras>=3.0.0->tensorflow==2.16.1->tensorflow-macos==2.16.1) (2.2.0)\n",
      "Requirement already satisfied: pygments<3.0.0,>=2.13.0 in /opt/anaconda3/lib/python3.12/site-packages (from rich->keras>=3.0.0->tensorflow==2.16.1->tensorflow-macos==2.16.1) (2.15.1)\n",
      "Requirement already satisfied: mdurl~=0.1 in /opt/anaconda3/lib/python3.12/site-packages (from markdown-it-py>=2.2.0->rich->keras>=3.0.0->tensorflow==2.16.1->tensorflow-macos==2.16.1) (0.1.0)\n"
     ]
    }
   ],
   "source": [
    "!pip install tensorflow-macos==2.16.1"
   ]
  },
  {
   "cell_type": "code",
   "execution_count": 4,
   "metadata": {},
   "outputs": [
    {
     "name": "stdout",
     "output_type": "stream",
     "text": [
      "Requirement already satisfied: keras in /opt/anaconda3/lib/python3.12/site-packages (3.10.0)\n",
      "Requirement already satisfied: absl-py in /opt/anaconda3/lib/python3.12/site-packages (from keras) (2.3.0)\n",
      "Requirement already satisfied: numpy in /opt/anaconda3/lib/python3.12/site-packages (from keras) (1.26.4)\n",
      "Requirement already satisfied: rich in /opt/anaconda3/lib/python3.12/site-packages (from keras) (13.7.1)\n",
      "Requirement already satisfied: namex in /opt/anaconda3/lib/python3.12/site-packages (from keras) (0.1.0)\n",
      "Requirement already satisfied: h5py in /opt/anaconda3/lib/python3.12/site-packages (from keras) (3.11.0)\n",
      "Requirement already satisfied: optree in /opt/anaconda3/lib/python3.12/site-packages (from keras) (0.16.0)\n",
      "Requirement already satisfied: ml-dtypes in /opt/anaconda3/lib/python3.12/site-packages (from keras) (0.3.2)\n",
      "Requirement already satisfied: packaging in /opt/anaconda3/lib/python3.12/site-packages (from keras) (24.1)\n",
      "Requirement already satisfied: typing-extensions>=4.6.0 in /opt/anaconda3/lib/python3.12/site-packages (from optree->keras) (4.11.0)\n",
      "Requirement already satisfied: markdown-it-py>=2.2.0 in /opt/anaconda3/lib/python3.12/site-packages (from rich->keras) (2.2.0)\n",
      "Requirement already satisfied: pygments<3.0.0,>=2.13.0 in /opt/anaconda3/lib/python3.12/site-packages (from rich->keras) (2.15.1)\n",
      "Requirement already satisfied: mdurl~=0.1 in /opt/anaconda3/lib/python3.12/site-packages (from markdown-it-py>=2.2.0->rich->keras) (0.1.0)\n"
     ]
    }
   ],
   "source": [
    "!pip install keras"
   ]
  },
  {
   "cell_type": "code",
   "execution_count": 5,
   "metadata": {},
   "outputs": [],
   "source": [
    "from tensorflow.keras.preprocessing.text import one_hot"
   ]
  },
  {
   "cell_type": "code",
   "execution_count": 6,
   "metadata": {},
   "outputs": [],
   "source": [
    "### sentences\n",
    "sent=[  'the glass of milk',\n",
    "     'the glass of juice',\n",
    "     'the cup of tea',\n",
    "    'I am a good boy',\n",
    "     'I am a good developer',\n",
    "     'understand the meaning of words',\n",
    "     'your videos are good',]"
   ]
  },
  {
   "cell_type": "code",
   "execution_count": 7,
   "metadata": {},
   "outputs": [],
   "source": [
    "## Define the vocabulary size\n",
    "voc_size=10000"
   ]
  },
  {
   "cell_type": "code",
   "execution_count": 8,
   "metadata": {},
   "outputs": [
    {
     "data": {
      "text/plain": [
       "[[1427, 5280, 7416, 4025],\n",
       " [1427, 5280, 7416, 5361],\n",
       " [1427, 1563, 7416, 1409],\n",
       " [9365, 4364, 3605, 1146, 1962],\n",
       " [9365, 4364, 3605, 1146, 7696],\n",
       " [1667, 1427, 4442, 7416, 9968],\n",
       " [9068, 1663, 6806, 1146]]"
      ]
     },
     "execution_count": 8,
     "metadata": {},
     "output_type": "execute_result"
    }
   ],
   "source": [
    "## One Hot Representation For Every Word\n",
    "one_hot_repr=[one_hot(words,voc_size)for words in sent]\n",
    "one_hot_repr"
   ]
  },
  {
   "cell_type": "code",
   "execution_count": 13,
   "metadata": {},
   "outputs": [],
   "source": [
    "## word Embedding Representation\n",
    "\n",
    "from tensorflow.keras.layers import Embedding\n",
    "#from tensorflow.keras.processing.sequence import pad_sequences - changed now\n",
    "from tensorflow.keras.utils import pad_sequences ## adds zeros in the matrix of each sentence\n",
    "from tensorflow.keras.models import Sequential"
   ]
  },
  {
   "cell_type": "code",
   "execution_count": 10,
   "metadata": {},
   "outputs": [],
   "source": [
    "import numpy as np"
   ]
  },
  {
   "cell_type": "code",
   "execution_count": 14,
   "metadata": {},
   "outputs": [
    {
     "name": "stdout",
     "output_type": "stream",
     "text": [
      "[[   0    0    0    0 1427 5280 7416 4025]\n",
      " [   0    0    0    0 1427 5280 7416 5361]\n",
      " [   0    0    0    0 1427 1563 7416 1409]\n",
      " [   0    0    0 9365 4364 3605 1146 1962]\n",
      " [   0    0    0 9365 4364 3605 1146 7696]\n",
      " [   0    0    0 1667 1427 4442 7416 9968]\n",
      " [   0    0    0    0 9068 1663 6806 1146]]\n"
     ]
    }
   ],
   "source": [
    "sent_length = 8\n",
    "embedded_docs = pad_sequences(one_hot_repr,padding='pre',maxlen=sent_length)\n",
    "print(embedded_docs)"
   ]
  },
  {
   "cell_type": "code",
   "execution_count": 15,
   "metadata": {},
   "outputs": [],
   "source": [
    "## Feature Representation\n",
    "dim = 10"
   ]
  },
  {
   "cell_type": "code",
   "execution_count": 21,
   "metadata": {},
   "outputs": [
    {
     "name": "stderr",
     "output_type": "stream",
     "text": [
      "/opt/anaconda3/lib/python3.12/site-packages/keras/src/layers/core/embedding.py:100: UserWarning: Do not pass an `input_shape`/`input_dim` argument to a layer. When using Sequential models, prefer using an `Input(shape)` object as the first layer in the model instead.\n",
      "  super().__init__(**kwargs)\n"
     ]
    }
   ],
   "source": [
    "model = Sequential()\n",
    "model.add(Embedding(voc_size, dim, input_shape=(sent_length,)))\n",
    "model.compile(optimizer='adam', loss='mse')"
   ]
  },
  {
   "cell_type": "code",
   "execution_count": 22,
   "metadata": {},
   "outputs": [
    {
     "data": {
      "text/html": [
       "<pre style=\"white-space:pre;overflow-x:auto;line-height:normal;font-family:Menlo,'DejaVu Sans Mono',consolas,'Courier New',monospace\"><span style=\"font-weight: bold\">Model: \"sequential_3\"</span>\n",
       "</pre>\n"
      ],
      "text/plain": [
       "\u001b[1mModel: \"sequential_3\"\u001b[0m\n"
      ]
     },
     "metadata": {},
     "output_type": "display_data"
    },
    {
     "data": {
      "text/html": [
       "<pre style=\"white-space:pre;overflow-x:auto;line-height:normal;font-family:Menlo,'DejaVu Sans Mono',consolas,'Courier New',monospace\">┏━━━━━━━━━━━━━━━━━━━━━━━━━━━━━━━━━┳━━━━━━━━━━━━━━━━━━━━━━━━┳━━━━━━━━━━━━━━━┓\n",
       "┃<span style=\"font-weight: bold\"> Layer (type)                    </span>┃<span style=\"font-weight: bold\"> Output Shape           </span>┃<span style=\"font-weight: bold\">       Param # </span>┃\n",
       "┡━━━━━━━━━━━━━━━━━━━━━━━━━━━━━━━━━╇━━━━━━━━━━━━━━━━━━━━━━━━╇━━━━━━━━━━━━━━━┩\n",
       "│ embedding_3 (<span style=\"color: #0087ff; text-decoration-color: #0087ff\">Embedding</span>)         │ (<span style=\"color: #00d7ff; text-decoration-color: #00d7ff\">None</span>, <span style=\"color: #00af00; text-decoration-color: #00af00\">8</span>, <span style=\"color: #00af00; text-decoration-color: #00af00\">10</span>)          │       <span style=\"color: #00af00; text-decoration-color: #00af00\">100,000</span> │\n",
       "└─────────────────────────────────┴────────────────────────┴───────────────┘\n",
       "</pre>\n"
      ],
      "text/plain": [
       "┏━━━━━━━━━━━━━━━━━━━━━━━━━━━━━━━━━┳━━━━━━━━━━━━━━━━━━━━━━━━┳━━━━━━━━━━━━━━━┓\n",
       "┃\u001b[1m \u001b[0m\u001b[1mLayer (type)                   \u001b[0m\u001b[1m \u001b[0m┃\u001b[1m \u001b[0m\u001b[1mOutput Shape          \u001b[0m\u001b[1m \u001b[0m┃\u001b[1m \u001b[0m\u001b[1m      Param #\u001b[0m\u001b[1m \u001b[0m┃\n",
       "┡━━━━━━━━━━━━━━━━━━━━━━━━━━━━━━━━━╇━━━━━━━━━━━━━━━━━━━━━━━━╇━━━━━━━━━━━━━━━┩\n",
       "│ embedding_3 (\u001b[38;5;33mEmbedding\u001b[0m)         │ (\u001b[38;5;45mNone\u001b[0m, \u001b[38;5;34m8\u001b[0m, \u001b[38;5;34m10\u001b[0m)          │       \u001b[38;5;34m100,000\u001b[0m │\n",
       "└─────────────────────────────────┴────────────────────────┴───────────────┘\n"
      ]
     },
     "metadata": {},
     "output_type": "display_data"
    },
    {
     "data": {
      "text/html": [
       "<pre style=\"white-space:pre;overflow-x:auto;line-height:normal;font-family:Menlo,'DejaVu Sans Mono',consolas,'Courier New',monospace\"><span style=\"font-weight: bold\"> Total params: </span><span style=\"color: #00af00; text-decoration-color: #00af00\">100,000</span> (390.62 KB)\n",
       "</pre>\n"
      ],
      "text/plain": [
       "\u001b[1m Total params: \u001b[0m\u001b[38;5;34m100,000\u001b[0m (390.62 KB)\n"
      ]
     },
     "metadata": {},
     "output_type": "display_data"
    },
    {
     "data": {
      "text/html": [
       "<pre style=\"white-space:pre;overflow-x:auto;line-height:normal;font-family:Menlo,'DejaVu Sans Mono',consolas,'Courier New',monospace\"><span style=\"font-weight: bold\"> Trainable params: </span><span style=\"color: #00af00; text-decoration-color: #00af00\">100,000</span> (390.62 KB)\n",
       "</pre>\n"
      ],
      "text/plain": [
       "\u001b[1m Trainable params: \u001b[0m\u001b[38;5;34m100,000\u001b[0m (390.62 KB)\n"
      ]
     },
     "metadata": {},
     "output_type": "display_data"
    },
    {
     "data": {
      "text/html": [
       "<pre style=\"white-space:pre;overflow-x:auto;line-height:normal;font-family:Menlo,'DejaVu Sans Mono',consolas,'Courier New',monospace\"><span style=\"font-weight: bold\"> Non-trainable params: </span><span style=\"color: #00af00; text-decoration-color: #00af00\">0</span> (0.00 B)\n",
       "</pre>\n"
      ],
      "text/plain": [
       "\u001b[1m Non-trainable params: \u001b[0m\u001b[38;5;34m0\u001b[0m (0.00 B)\n"
      ]
     },
     "metadata": {},
     "output_type": "display_data"
    }
   ],
   "source": [
    "model.summary()"
   ]
  },
  {
   "cell_type": "code",
   "execution_count": 23,
   "metadata": {},
   "outputs": [
    {
     "name": "stdout",
     "output_type": "stream",
     "text": [
      "\u001b[1m1/1\u001b[0m \u001b[32m━━━━━━━━━━━━━━━━━━━━\u001b[0m\u001b[37m\u001b[0m \u001b[1m0s\u001b[0m 189ms/step\n"
     ]
    },
    {
     "name": "stderr",
     "output_type": "stream",
     "text": [
      "2025-06-21 16:33:58.811787: I tensorflow/core/grappler/optimizers/custom_graph_optimizer_registry.cc:117] Plugin optimizer for device_type GPU is enabled.\n",
      "2025-06-21 16:33:58.813731: E tensorflow/core/grappler/optimizers/meta_optimizer.cc:961] PluggableGraphOptimizer failed: INVALID_ARGUMENT: Failed to deserialize the `graph_buf`.\n"
     ]
    },
    {
     "data": {
      "text/plain": [
       "array([[[-0.04357147, -0.03146926, -0.02206907,  0.00444522,\n",
       "         -0.00142257,  0.03119116,  0.04043574, -0.01542928,\n",
       "         -0.00497194,  0.01519096],\n",
       "        [-0.04357147, -0.03146926, -0.02206907,  0.00444522,\n",
       "         -0.00142257,  0.03119116,  0.04043574, -0.01542928,\n",
       "         -0.00497194,  0.01519096],\n",
       "        [-0.04357147, -0.03146926, -0.02206907,  0.00444522,\n",
       "         -0.00142257,  0.03119116,  0.04043574, -0.01542928,\n",
       "         -0.00497194,  0.01519096],\n",
       "        [-0.04357147, -0.03146926, -0.02206907,  0.00444522,\n",
       "         -0.00142257,  0.03119116,  0.04043574, -0.01542928,\n",
       "         -0.00497194,  0.01519096],\n",
       "        [ 0.04843784,  0.00601132,  0.02599845, -0.04523146,\n",
       "         -0.00173323, -0.01091337,  0.03979607,  0.03003948,\n",
       "         -0.00755871, -0.04532149],\n",
       "        [ 0.01185949,  0.03311021, -0.02896203,  0.03962597,\n",
       "          0.04457897, -0.00900279,  0.0430979 , -0.02681354,\n",
       "         -0.04525464, -0.0293763 ],\n",
       "        [ 0.01693619, -0.00364392, -0.01027467, -0.0119012 ,\n",
       "         -0.02958608, -0.00593458,  0.04035063, -0.03690086,\n",
       "          0.01499123,  0.03700576],\n",
       "        [ 0.02343284, -0.0098174 ,  0.01721943, -0.00056558,\n",
       "          0.00013062, -0.04828465,  0.03586807,  0.01568091,\n",
       "          0.01659708,  0.03332053]],\n",
       "\n",
       "       [[-0.04357147, -0.03146926, -0.02206907,  0.00444522,\n",
       "         -0.00142257,  0.03119116,  0.04043574, -0.01542928,\n",
       "         -0.00497194,  0.01519096],\n",
       "        [-0.04357147, -0.03146926, -0.02206907,  0.00444522,\n",
       "         -0.00142257,  0.03119116,  0.04043574, -0.01542928,\n",
       "         -0.00497194,  0.01519096],\n",
       "        [-0.04357147, -0.03146926, -0.02206907,  0.00444522,\n",
       "         -0.00142257,  0.03119116,  0.04043574, -0.01542928,\n",
       "         -0.00497194,  0.01519096],\n",
       "        [-0.04357147, -0.03146926, -0.02206907,  0.00444522,\n",
       "         -0.00142257,  0.03119116,  0.04043574, -0.01542928,\n",
       "         -0.00497194,  0.01519096],\n",
       "        [ 0.04843784,  0.00601132,  0.02599845, -0.04523146,\n",
       "         -0.00173323, -0.01091337,  0.03979607,  0.03003948,\n",
       "         -0.00755871, -0.04532149],\n",
       "        [ 0.01185949,  0.03311021, -0.02896203,  0.03962597,\n",
       "          0.04457897, -0.00900279,  0.0430979 , -0.02681354,\n",
       "         -0.04525464, -0.0293763 ],\n",
       "        [ 0.01693619, -0.00364392, -0.01027467, -0.0119012 ,\n",
       "         -0.02958608, -0.00593458,  0.04035063, -0.03690086,\n",
       "          0.01499123,  0.03700576],\n",
       "        [-0.02962562, -0.00591452,  0.01137177, -0.01083631,\n",
       "          0.01156373, -0.04913859, -0.03290588,  0.01518914,\n",
       "          0.00100075,  0.02346783]],\n",
       "\n",
       "       [[-0.04357147, -0.03146926, -0.02206907,  0.00444522,\n",
       "         -0.00142257,  0.03119116,  0.04043574, -0.01542928,\n",
       "         -0.00497194,  0.01519096],\n",
       "        [-0.04357147, -0.03146926, -0.02206907,  0.00444522,\n",
       "         -0.00142257,  0.03119116,  0.04043574, -0.01542928,\n",
       "         -0.00497194,  0.01519096],\n",
       "        [-0.04357147, -0.03146926, -0.02206907,  0.00444522,\n",
       "         -0.00142257,  0.03119116,  0.04043574, -0.01542928,\n",
       "         -0.00497194,  0.01519096],\n",
       "        [-0.04357147, -0.03146926, -0.02206907,  0.00444522,\n",
       "         -0.00142257,  0.03119116,  0.04043574, -0.01542928,\n",
       "         -0.00497194,  0.01519096],\n",
       "        [ 0.04843784,  0.00601132,  0.02599845, -0.04523146,\n",
       "         -0.00173323, -0.01091337,  0.03979607,  0.03003948,\n",
       "         -0.00755871, -0.04532149],\n",
       "        [ 0.04662905,  0.00486064, -0.01666081, -0.01177185,\n",
       "         -0.02329668,  0.03187661, -0.00596467, -0.04377211,\n",
       "          0.02278471,  0.00540964],\n",
       "        [ 0.01693619, -0.00364392, -0.01027467, -0.0119012 ,\n",
       "         -0.02958608, -0.00593458,  0.04035063, -0.03690086,\n",
       "          0.01499123,  0.03700576],\n",
       "        [ 0.04994034, -0.01200987, -0.04083773, -0.04590673,\n",
       "          0.01585027, -0.00987916, -0.02376959,  0.03258474,\n",
       "          0.04939445,  0.0214725 ]],\n",
       "\n",
       "       [[-0.04357147, -0.03146926, -0.02206907,  0.00444522,\n",
       "         -0.00142257,  0.03119116,  0.04043574, -0.01542928,\n",
       "         -0.00497194,  0.01519096],\n",
       "        [-0.04357147, -0.03146926, -0.02206907,  0.00444522,\n",
       "         -0.00142257,  0.03119116,  0.04043574, -0.01542928,\n",
       "         -0.00497194,  0.01519096],\n",
       "        [-0.04357147, -0.03146926, -0.02206907,  0.00444522,\n",
       "         -0.00142257,  0.03119116,  0.04043574, -0.01542928,\n",
       "         -0.00497194,  0.01519096],\n",
       "        [ 0.04264048, -0.01922662,  0.00191033,  0.01294104,\n",
       "         -0.00246788,  0.04135815, -0.0227293 , -0.03717654,\n",
       "         -0.00813508, -0.04328792],\n",
       "        [-0.01872297,  0.0021314 ,  0.02402521, -0.007271  ,\n",
       "          0.00798487, -0.04348749,  0.01978166,  0.00687469,\n",
       "         -0.02662277,  0.0412686 ],\n",
       "        [-0.03366128,  0.03281825,  0.02547744, -0.00684423,\n",
       "          0.03853358, -0.04931938, -0.01016312,  0.02730634,\n",
       "         -0.0098406 ,  0.00487145],\n",
       "        [ 0.00920356, -0.04002744, -0.03576399,  0.01240788,\n",
       "          0.04615304, -0.03333086, -0.03182434, -0.02123131,\n",
       "          0.01908959, -0.03722906],\n",
       "        [ 0.00801983,  0.04501489, -0.00310551,  0.00485481,\n",
       "         -0.04070827, -0.03698213,  0.0241627 , -0.02513218,\n",
       "          0.04120339,  0.00795623]],\n",
       "\n",
       "       [[-0.04357147, -0.03146926, -0.02206907,  0.00444522,\n",
       "         -0.00142257,  0.03119116,  0.04043574, -0.01542928,\n",
       "         -0.00497194,  0.01519096],\n",
       "        [-0.04357147, -0.03146926, -0.02206907,  0.00444522,\n",
       "         -0.00142257,  0.03119116,  0.04043574, -0.01542928,\n",
       "         -0.00497194,  0.01519096],\n",
       "        [-0.04357147, -0.03146926, -0.02206907,  0.00444522,\n",
       "         -0.00142257,  0.03119116,  0.04043574, -0.01542928,\n",
       "         -0.00497194,  0.01519096],\n",
       "        [ 0.04264048, -0.01922662,  0.00191033,  0.01294104,\n",
       "         -0.00246788,  0.04135815, -0.0227293 , -0.03717654,\n",
       "         -0.00813508, -0.04328792],\n",
       "        [-0.01872297,  0.0021314 ,  0.02402521, -0.007271  ,\n",
       "          0.00798487, -0.04348749,  0.01978166,  0.00687469,\n",
       "         -0.02662277,  0.0412686 ],\n",
       "        [-0.03366128,  0.03281825,  0.02547744, -0.00684423,\n",
       "          0.03853358, -0.04931938, -0.01016312,  0.02730634,\n",
       "         -0.0098406 ,  0.00487145],\n",
       "        [ 0.00920356, -0.04002744, -0.03576399,  0.01240788,\n",
       "          0.04615304, -0.03333086, -0.03182434, -0.02123131,\n",
       "          0.01908959, -0.03722906],\n",
       "        [-0.04905642, -0.0297516 ,  0.04371228, -0.02376316,\n",
       "         -0.03492256, -0.03540523,  0.00634874, -0.02422678,\n",
       "         -0.03612947, -0.04018058]],\n",
       "\n",
       "       [[-0.04357147, -0.03146926, -0.02206907,  0.00444522,\n",
       "         -0.00142257,  0.03119116,  0.04043574, -0.01542928,\n",
       "         -0.00497194,  0.01519096],\n",
       "        [-0.04357147, -0.03146926, -0.02206907,  0.00444522,\n",
       "         -0.00142257,  0.03119116,  0.04043574, -0.01542928,\n",
       "         -0.00497194,  0.01519096],\n",
       "        [-0.04357147, -0.03146926, -0.02206907,  0.00444522,\n",
       "         -0.00142257,  0.03119116,  0.04043574, -0.01542928,\n",
       "         -0.00497194,  0.01519096],\n",
       "        [-0.02714748,  0.02910025,  0.0177618 , -0.01710968,\n",
       "          0.02960106, -0.00709122,  0.01098595, -0.04622189,\n",
       "          0.0116409 ,  0.0316768 ],\n",
       "        [ 0.04843784,  0.00601132,  0.02599845, -0.04523146,\n",
       "         -0.00173323, -0.01091337,  0.03979607,  0.03003948,\n",
       "         -0.00755871, -0.04532149],\n",
       "        [ 0.01650742,  0.03783344, -0.01473209, -0.03397606,\n",
       "          0.01065104,  0.00053853,  0.01560314, -0.03272194,\n",
       "          0.01572433,  0.00872315],\n",
       "        [ 0.01693619, -0.00364392, -0.01027467, -0.0119012 ,\n",
       "         -0.02958608, -0.00593458,  0.04035063, -0.03690086,\n",
       "          0.01499123,  0.03700576],\n",
       "        [-0.04823221,  0.04336749, -0.03529177,  0.04012369,\n",
       "          0.00169051, -0.04131437,  0.0009501 ,  0.00887123,\n",
       "         -0.01751548,  0.04112108]],\n",
       "\n",
       "       [[-0.04357147, -0.03146926, -0.02206907,  0.00444522,\n",
       "         -0.00142257,  0.03119116,  0.04043574, -0.01542928,\n",
       "         -0.00497194,  0.01519096],\n",
       "        [-0.04357147, -0.03146926, -0.02206907,  0.00444522,\n",
       "         -0.00142257,  0.03119116,  0.04043574, -0.01542928,\n",
       "         -0.00497194,  0.01519096],\n",
       "        [-0.04357147, -0.03146926, -0.02206907,  0.00444522,\n",
       "         -0.00142257,  0.03119116,  0.04043574, -0.01542928,\n",
       "         -0.00497194,  0.01519096],\n",
       "        [-0.04357147, -0.03146926, -0.02206907,  0.00444522,\n",
       "         -0.00142257,  0.03119116,  0.04043574, -0.01542928,\n",
       "         -0.00497194,  0.01519096],\n",
       "        [ 0.02468817, -0.01042839,  0.03954602, -0.0370473 ,\n",
       "         -0.04523063,  0.02760354,  0.00252811,  0.04801679,\n",
       "         -0.03402384, -0.01387844],\n",
       "        [-0.00644908,  0.02656147,  0.04283421,  0.02008236,\n",
       "          0.01224748, -0.01525049, -0.00256385, -0.02136858,\n",
       "         -0.04841077, -0.02778493],\n",
       "        [-0.02919619, -0.02803066, -0.03684924, -0.0369511 ,\n",
       "          0.02531502, -0.04470848,  0.01582526,  0.03661103,\n",
       "         -0.00093856, -0.03907528],\n",
       "        [ 0.00920356, -0.04002744, -0.03576399,  0.01240788,\n",
       "          0.04615304, -0.03333086, -0.03182434, -0.02123131,\n",
       "          0.01908959, -0.03722906]]], dtype=float32)"
      ]
     },
     "execution_count": 23,
     "metadata": {},
     "output_type": "execute_result"
    }
   ],
   "source": [
    "model.predict(embedded_docs)"
   ]
  },
  {
   "cell_type": "code",
   "execution_count": 24,
   "metadata": {},
   "outputs": [
    {
     "data": {
      "text/plain": [
       "array([   0,    0,    0,    0, 1427, 5280, 7416, 4025], dtype=int32)"
      ]
     },
     "execution_count": 24,
     "metadata": {},
     "output_type": "execute_result"
    }
   ],
   "source": [
    "embedded_docs[0]"
   ]
  },
  {
   "cell_type": "code",
   "execution_count": 28,
   "metadata": {},
   "outputs": [
    {
     "name": "stdout",
     "output_type": "stream",
     "text": [
      "\u001b[1m1/1\u001b[0m \u001b[32m━━━━━━━━━━━━━━━━━━━━\u001b[0m\u001b[37m\u001b[0m \u001b[1m0s\u001b[0m 113ms/step\n"
     ]
    },
    {
     "name": "stderr",
     "output_type": "stream",
     "text": [
      "2025-06-21 16:37:05.292201: E tensorflow/core/grappler/optimizers/meta_optimizer.cc:961] PluggableGraphOptimizer failed: INVALID_ARGUMENT: Failed to deserialize the `graph_buf`.\n"
     ]
    },
    {
     "data": {
      "text/plain": [
       "array([[[-0.04357147, -0.03146926, -0.02206907,  0.00444522,\n",
       "         -0.00142257,  0.03119116,  0.04043574, -0.01542928,\n",
       "         -0.00497194,  0.01519096],\n",
       "        [-0.04357147, -0.03146926, -0.02206907,  0.00444522,\n",
       "         -0.00142257,  0.03119116,  0.04043574, -0.01542928,\n",
       "         -0.00497194,  0.01519096],\n",
       "        [-0.04357147, -0.03146926, -0.02206907,  0.00444522,\n",
       "         -0.00142257,  0.03119116,  0.04043574, -0.01542928,\n",
       "         -0.00497194,  0.01519096],\n",
       "        [-0.04357147, -0.03146926, -0.02206907,  0.00444522,\n",
       "         -0.00142257,  0.03119116,  0.04043574, -0.01542928,\n",
       "         -0.00497194,  0.01519096],\n",
       "        [ 0.04843784,  0.00601132,  0.02599845, -0.04523146,\n",
       "         -0.00173323, -0.01091337,  0.03979607,  0.03003948,\n",
       "         -0.00755871, -0.04532149],\n",
       "        [ 0.01185949,  0.03311021, -0.02896203,  0.03962597,\n",
       "          0.04457897, -0.00900279,  0.0430979 , -0.02681354,\n",
       "         -0.04525464, -0.0293763 ],\n",
       "        [ 0.01693619, -0.00364392, -0.01027467, -0.0119012 ,\n",
       "         -0.02958608, -0.00593458,  0.04035063, -0.03690086,\n",
       "          0.01499123,  0.03700576],\n",
       "        [ 0.02343284, -0.0098174 ,  0.01721943, -0.00056558,\n",
       "          0.00013062, -0.04828465,  0.03586807,  0.01568091,\n",
       "          0.01659708,  0.03332053]]], dtype=float32)"
      ]
     },
     "execution_count": 28,
     "metadata": {},
     "output_type": "execute_result"
    }
   ],
   "source": [
    "model.predict(embedded_docs[0:1])"
   ]
  },
  {
   "cell_type": "code",
   "execution_count": null,
   "metadata": {},
   "outputs": [],
   "source": []
  }
 ],
 "metadata": {
  "kernelspec": {
   "display_name": "Python 3",
   "language": "python",
   "name": "python3"
  },
  "language_info": {
   "codemirror_mode": {
    "name": "ipython",
    "version": 3
   },
   "file_extension": ".py",
   "mimetype": "text/x-python",
   "name": "python",
   "nbconvert_exporter": "python",
   "pygments_lexer": "ipython3",
   "version": "3.12.7"
  }
 },
 "nbformat": 4,
 "nbformat_minor": 2
}
