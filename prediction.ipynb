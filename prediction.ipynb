{
 "cells": [
  {
   "cell_type": "code",
   "execution_count": 10,
   "metadata": {},
   "outputs": [],
   "source": [
    "# Step 1: Import Libraries and Load the Model\n",
    "import numpy as np\n",
    "import tensorflow as tf\n",
    "from tensorflow.keras.datasets import imdb\n",
    "from tensorflow.keras.preprocessing import sequence\n",
    "from tensorflow.keras.models import load_model"
   ]
  },
  {
   "cell_type": "code",
   "execution_count": 11,
   "metadata": {},
   "outputs": [],
   "source": [
    "\n",
    "# Load the IMDB dataset word index\n",
    "word_index = imdb.get_word_index()\n",
    "reverse_word_index = {value: key for key, value in word_index.items()}"
   ]
  },
  {
   "cell_type": "code",
   "execution_count": 36,
   "metadata": {},
   "outputs": [
    {
     "name": "stderr",
     "output_type": "stream",
     "text": [
      "/opt/anaconda3/lib/python3.12/site-packages/keras/src/trainers/trainer.py:212: UserWarning: Model doesn't support `jit_compile=True`. Proceeding with `jit_compile=False`.\n"
     ]
    },
    {
     "data": {
      "text/html": [
       "<pre style=\"white-space:pre;overflow-x:auto;line-height:normal;font-family:Menlo,'DejaVu Sans Mono',consolas,'Courier New',monospace\"><span style=\"font-weight: bold\">Model: \"sequential_1\"</span>\n",
       "</pre>\n"
      ],
      "text/plain": [
       "\u001b[1mModel: \"sequential_1\"\u001b[0m\n"
      ]
     },
     "metadata": {},
     "output_type": "display_data"
    },
    {
     "data": {
      "text/html": [
       "<pre style=\"white-space:pre;overflow-x:auto;line-height:normal;font-family:Menlo,'DejaVu Sans Mono',consolas,'Courier New',monospace\">┏━━━━━━━━━━━━━━━━━━━━━━━━━━━━━━━━━┳━━━━━━━━━━━━━━━━━━━━━━━━┳━━━━━━━━━━━━━━━┓\n",
       "┃<span style=\"font-weight: bold\"> Layer (type)                    </span>┃<span style=\"font-weight: bold\"> Output Shape           </span>┃<span style=\"font-weight: bold\">       Param # </span>┃\n",
       "┡━━━━━━━━━━━━━━━━━━━━━━━━━━━━━━━━━╇━━━━━━━━━━━━━━━━━━━━━━━━╇━━━━━━━━━━━━━━━┩\n",
       "│ embedding_1 (<span style=\"color: #0087ff; text-decoration-color: #0087ff\">Embedding</span>)         │ (<span style=\"color: #00af00; text-decoration-color: #00af00\">32</span>, <span style=\"color: #00af00; text-decoration-color: #00af00\">500</span>, <span style=\"color: #00af00; text-decoration-color: #00af00\">128</span>)         │     <span style=\"color: #00af00; text-decoration-color: #00af00\">1,280,000</span> │\n",
       "├─────────────────────────────────┼────────────────────────┼───────────────┤\n",
       "│ simple_rnn_1 (<span style=\"color: #0087ff; text-decoration-color: #0087ff\">SimpleRNN</span>)        │ (<span style=\"color: #00af00; text-decoration-color: #00af00\">32</span>, <span style=\"color: #00af00; text-decoration-color: #00af00\">128</span>)              │        <span style=\"color: #00af00; text-decoration-color: #00af00\">32,896</span> │\n",
       "├─────────────────────────────────┼────────────────────────┼───────────────┤\n",
       "│ dense_1 (<span style=\"color: #0087ff; text-decoration-color: #0087ff\">Dense</span>)                 │ (<span style=\"color: #00af00; text-decoration-color: #00af00\">32</span>, <span style=\"color: #00af00; text-decoration-color: #00af00\">1</span>)                │           <span style=\"color: #00af00; text-decoration-color: #00af00\">129</span> │\n",
       "└─────────────────────────────────┴────────────────────────┴───────────────┘\n",
       "</pre>\n"
      ],
      "text/plain": [
       "┏━━━━━━━━━━━━━━━━━━━━━━━━━━━━━━━━━┳━━━━━━━━━━━━━━━━━━━━━━━━┳━━━━━━━━━━━━━━━┓\n",
       "┃\u001b[1m \u001b[0m\u001b[1mLayer (type)                   \u001b[0m\u001b[1m \u001b[0m┃\u001b[1m \u001b[0m\u001b[1mOutput Shape          \u001b[0m\u001b[1m \u001b[0m┃\u001b[1m \u001b[0m\u001b[1m      Param #\u001b[0m\u001b[1m \u001b[0m┃\n",
       "┡━━━━━━━━━━━━━━━━━━━━━━━━━━━━━━━━━╇━━━━━━━━━━━━━━━━━━━━━━━━╇━━━━━━━━━━━━━━━┩\n",
       "│ embedding_1 (\u001b[38;5;33mEmbedding\u001b[0m)         │ (\u001b[38;5;34m32\u001b[0m, \u001b[38;5;34m500\u001b[0m, \u001b[38;5;34m128\u001b[0m)         │     \u001b[38;5;34m1,280,000\u001b[0m │\n",
       "├─────────────────────────────────┼────────────────────────┼───────────────┤\n",
       "│ simple_rnn_1 (\u001b[38;5;33mSimpleRNN\u001b[0m)        │ (\u001b[38;5;34m32\u001b[0m, \u001b[38;5;34m128\u001b[0m)              │        \u001b[38;5;34m32,896\u001b[0m │\n",
       "├─────────────────────────────────┼────────────────────────┼───────────────┤\n",
       "│ dense_1 (\u001b[38;5;33mDense\u001b[0m)                 │ (\u001b[38;5;34m32\u001b[0m, \u001b[38;5;34m1\u001b[0m)                │           \u001b[38;5;34m129\u001b[0m │\n",
       "└─────────────────────────────────┴────────────────────────┴───────────────┘\n"
      ]
     },
     "metadata": {},
     "output_type": "display_data"
    },
    {
     "data": {
      "text/html": [
       "<pre style=\"white-space:pre;overflow-x:auto;line-height:normal;font-family:Menlo,'DejaVu Sans Mono',consolas,'Courier New',monospace\"><span style=\"font-weight: bold\"> Total params: </span><span style=\"color: #00af00; text-decoration-color: #00af00\">3,939,077</span> (15.03 MB)\n",
       "</pre>\n"
      ],
      "text/plain": [
       "\u001b[1m Total params: \u001b[0m\u001b[38;5;34m3,939,077\u001b[0m (15.03 MB)\n"
      ]
     },
     "metadata": {},
     "output_type": "display_data"
    },
    {
     "data": {
      "text/html": [
       "<pre style=\"white-space:pre;overflow-x:auto;line-height:normal;font-family:Menlo,'DejaVu Sans Mono',consolas,'Courier New',monospace\"><span style=\"font-weight: bold\"> Trainable params: </span><span style=\"color: #00af00; text-decoration-color: #00af00\">1,313,025</span> (5.01 MB)\n",
       "</pre>\n"
      ],
      "text/plain": [
       "\u001b[1m Trainable params: \u001b[0m\u001b[38;5;34m1,313,025\u001b[0m (5.01 MB)\n"
      ]
     },
     "metadata": {},
     "output_type": "display_data"
    },
    {
     "data": {
      "text/html": [
       "<pre style=\"white-space:pre;overflow-x:auto;line-height:normal;font-family:Menlo,'DejaVu Sans Mono',consolas,'Courier New',monospace\"><span style=\"font-weight: bold\"> Non-trainable params: </span><span style=\"color: #00af00; text-decoration-color: #00af00\">0</span> (0.00 B)\n",
       "</pre>\n"
      ],
      "text/plain": [
       "\u001b[1m Non-trainable params: \u001b[0m\u001b[38;5;34m0\u001b[0m (0.00 B)\n"
      ]
     },
     "metadata": {},
     "output_type": "display_data"
    },
    {
     "data": {
      "text/html": [
       "<pre style=\"white-space:pre;overflow-x:auto;line-height:normal;font-family:Menlo,'DejaVu Sans Mono',consolas,'Courier New',monospace\"><span style=\"font-weight: bold\"> Optimizer params: </span><span style=\"color: #00af00; text-decoration-color: #00af00\">2,626,052</span> (10.02 MB)\n",
       "</pre>\n"
      ],
      "text/plain": [
       "\u001b[1m Optimizer params: \u001b[0m\u001b[38;5;34m2,626,052\u001b[0m (10.02 MB)\n"
      ]
     },
     "metadata": {},
     "output_type": "display_data"
    }
   ],
   "source": [
    "# Load the pre-trained model with ReLU activation\n",
    "model = load_model('model.keras')\n",
    "model.summary()"
   ]
  },
  {
   "cell_type": "code",
   "execution_count": 37,
   "metadata": {},
   "outputs": [
    {
     "data": {
      "text/plain": [
       "[array([[ 0.43490168, -0.48992032,  0.57342446, ...,  0.5629647 ,\n",
       "          0.43414646, -0.44168386],\n",
       "        [ 0.04832437,  0.01457708,  0.05806487, ...,  0.01278455,\n",
       "          0.02822066, -0.04745138],\n",
       "        [ 0.01130369, -0.04284309,  0.14886776, ...,  0.05717522,\n",
       "         -0.0380728 , -0.01549972],\n",
       "        ...,\n",
       "        [-0.05159474, -0.00845405, -0.02134454, ...,  0.04241512,\n",
       "         -0.03468771, -0.02443676],\n",
       "        [ 0.03937796,  0.01067797, -0.03690236, ...,  0.02321638,\n",
       "          0.01290058,  0.03917979],\n",
       "        [-0.0089919 , -0.02885092, -0.00914866, ..., -0.07806922,\n",
       "          0.07768693, -0.08423837]], dtype=float32),\n",
       " array([[-0.04002278, -0.11210132, -0.17860335, ..., -0.04087798,\n",
       "         -0.08722604,  0.00629853],\n",
       "        [ 0.11065969,  0.09724993,  0.13380523, ..., -0.03599418,\n",
       "         -0.01889623,  0.05786369],\n",
       "        [-0.00208972,  0.05922024,  0.05633715, ..., -0.15378514,\n",
       "         -0.05238112,  0.11426559],\n",
       "        ...,\n",
       "        [-0.1084022 , -0.11582753,  0.05713873, ...,  0.1323532 ,\n",
       "          0.06124556, -0.03821545],\n",
       "        [-0.12082511,  0.00563058,  0.12604222, ...,  0.02464472,\n",
       "         -0.09468848, -0.02335786],\n",
       "        [-0.08131965,  0.03883016, -0.08290689, ...,  0.04962188,\n",
       "         -0.03572433,  0.02540397]], dtype=float32),\n",
       " array([[ 0.04563081, -0.080268  , -0.17202167, ..., -0.10457086,\n",
       "          0.02055262,  0.07298037],\n",
       "        [ 0.05456463, -0.08779684, -0.09709079, ..., -0.18963099,\n",
       "          0.14807442, -0.10762327],\n",
       "        [-0.27981925, -0.04961495,  0.07833159, ...,  0.04885789,\n",
       "         -0.08324837,  0.04109756],\n",
       "        ...,\n",
       "        [ 0.00682548, -0.00331913,  0.02453434, ..., -0.01592619,\n",
       "         -0.03942886,  0.05472475],\n",
       "        [ 0.04404236, -0.04768002, -0.14218663, ...,  0.00784872,\n",
       "          0.23348439, -0.15396474],\n",
       "        [ 0.0786273 , -0.01914597,  0.02357724, ..., -0.13232298,\n",
       "          0.10869969,  0.08793359]], dtype=float32),\n",
       " array([ 0.01351883, -0.02870416, -0.00600786,  0.01184566, -0.01503398,\n",
       "         0.00460774, -0.005269  ,  0.00510846,  0.00901686,  0.0170173 ,\n",
       "        -0.01799701, -0.00814179, -0.03491504, -0.01982861, -0.02660496,\n",
       "         0.01378781, -0.02842399, -0.00073719, -0.03513951, -0.01675705,\n",
       "         0.01340205, -0.01747744,  0.00237645, -0.01614579, -0.02982289,\n",
       "        -0.01718078, -0.01853091,  0.00940738,  0.00074913,  0.01657813,\n",
       "        -0.03335595,  0.0009709 , -0.01099354,  0.00043031, -0.02711936,\n",
       "        -0.01572796, -0.0060538 ,  0.01549377, -0.01951644, -0.02163553,\n",
       "        -0.00506056, -0.02212015, -0.01846512,  0.01157863, -0.01917286,\n",
       "         0.00613203, -0.02567142, -0.00513199, -0.02940346, -0.0268283 ,\n",
       "        -0.02909165,  0.00338386, -0.02236895,  0.02743427,  0.01106274,\n",
       "         0.00083439, -0.01557787,  0.00554573,  0.00412571, -0.01025075,\n",
       "         0.0058566 , -0.01513261,  0.02352134, -0.02741729,  0.01444865,\n",
       "         0.02113787, -0.02120608, -0.03677883, -0.00938509, -0.04809232,\n",
       "        -0.00900856, -0.01320464, -0.01930014,  0.01304668, -0.01399201,\n",
       "        -0.0261426 , -0.00386583, -0.00069194, -0.01173627,  0.01019115,\n",
       "         0.00748263,  0.02571041,  0.03018673, -0.00766987,  0.00692228,\n",
       "        -0.02862494, -0.01286399, -0.01685466, -0.00567838, -0.0101404 ,\n",
       "        -0.01140015,  0.0115416 , -0.02688462, -0.03008679,  0.0140712 ,\n",
       "        -0.00131792, -0.00747769, -0.02030228,  0.02031   , -0.01024717,\n",
       "        -0.0050553 , -0.01084497, -0.00991036, -0.0082461 ,  0.00579451,\n",
       "        -0.02720293,  0.02230654, -0.01539815,  0.01085428, -0.00246646,\n",
       "        -0.00300428, -0.01681241, -0.02849847,  0.01001969,  0.005097  ,\n",
       "         0.0123563 ,  0.00259708,  0.00251855, -0.01886582,  0.00940936,\n",
       "         0.00125873, -0.0276493 , -0.00378093, -0.01449226, -0.00944232,\n",
       "         0.0047185 , -0.01445942,  0.02037208], dtype=float32),\n",
       " array([[-0.12741518],\n",
       "        [-0.01179151],\n",
       "        [-0.16607758],\n",
       "        [ 0.07286914],\n",
       "        [ 0.00621742],\n",
       "        [ 0.15359452],\n",
       "        [-0.09901793],\n",
       "        [-0.09244287],\n",
       "        [ 0.20379707],\n",
       "        [-0.6542264 ],\n",
       "        [-0.14679731],\n",
       "        [-0.16196662],\n",
       "        [-0.32836103],\n",
       "        [ 0.00774478],\n",
       "        [ 0.10326403],\n",
       "        [-0.16215909],\n",
       "        [-0.02616014],\n",
       "        [ 0.03385537],\n",
       "        [ 0.01202659],\n",
       "        [ 0.09722597],\n",
       "        [-0.10193714],\n",
       "        [ 0.02899235],\n",
       "        [-0.3649882 ],\n",
       "        [ 0.14628433],\n",
       "        [ 0.0259374 ],\n",
       "        [ 0.04961957],\n",
       "        [ 0.15566504],\n",
       "        [ 0.3975472 ],\n",
       "        [-0.08472454],\n",
       "        [-0.7631071 ],\n",
       "        [-0.05292979],\n",
       "        [-0.1603006 ],\n",
       "        [-0.14166862],\n",
       "        [ 0.2233296 ],\n",
       "        [ 0.09027456],\n",
       "        [-0.19924217],\n",
       "        [ 0.13265586],\n",
       "        [ 0.4035989 ],\n",
       "        [ 0.02416344],\n",
       "        [ 0.0546898 ],\n",
       "        [ 0.15371446],\n",
       "        [ 0.10442368],\n",
       "        [-0.15546244],\n",
       "        [ 0.33827975],\n",
       "        [-0.02929935],\n",
       "        [-0.1815772 ],\n",
       "        [-0.16290464],\n",
       "        [ 0.29188728],\n",
       "        [-0.43166372],\n",
       "        [-0.02701866],\n",
       "        [-0.15819168],\n",
       "        [-0.04735738],\n",
       "        [-0.14420925],\n",
       "        [ 0.12170859],\n",
       "        [ 0.23057865],\n",
       "        [-0.00938296],\n",
       "        [ 0.13199773],\n",
       "        [-0.08851023],\n",
       "        [-0.3252151 ],\n",
       "        [-0.03216622],\n",
       "        [ 0.06621642],\n",
       "        [ 0.3959481 ],\n",
       "        [ 0.05093532],\n",
       "        [ 0.06950264],\n",
       "        [ 0.2744747 ],\n",
       "        [-0.135968  ],\n",
       "        [ 0.11098594],\n",
       "        [ 0.06284614],\n",
       "        [ 0.1181149 ],\n",
       "        [ 0.00358975],\n",
       "        [ 0.2400698 ],\n",
       "        [ 0.20205718],\n",
       "        [-0.20678024],\n",
       "        [ 0.54680866],\n",
       "        [-0.20352246],\n",
       "        [-0.19161528],\n",
       "        [-0.11564612],\n",
       "        [-0.16254011],\n",
       "        [-0.10456714],\n",
       "        [ 0.0075622 ],\n",
       "        [-0.22976735],\n",
       "        [ 0.06107671],\n",
       "        [ 0.12077515],\n",
       "        [-0.13764465],\n",
       "        [ 0.18459745],\n",
       "        [ 0.18147853],\n",
       "        [-0.11772913],\n",
       "        [-0.1825344 ],\n",
       "        [-0.13306858],\n",
       "        [-0.3191239 ],\n",
       "        [-0.21208173],\n",
       "        [-0.43492326],\n",
       "        [ 0.04593014],\n",
       "        [-0.01644199],\n",
       "        [ 0.04907207],\n",
       "        [-0.12353721],\n",
       "        [-0.12301028],\n",
       "        [-0.10398849],\n",
       "        [ 0.11537448],\n",
       "        [-0.19118336],\n",
       "        [ 0.07751448],\n",
       "        [ 0.22094344],\n",
       "        [-0.10033406],\n",
       "        [ 0.0191595 ],\n",
       "        [-0.16382281],\n",
       "        [ 0.03370497],\n",
       "        [-0.09177736],\n",
       "        [ 0.2362069 ],\n",
       "        [-0.13279429],\n",
       "        [-0.18373369],\n",
       "        [-0.13657074],\n",
       "        [ 0.11628164],\n",
       "        [ 0.18663909],\n",
       "        [ 0.03990974],\n",
       "        [-0.14964026],\n",
       "        [ 0.10690909],\n",
       "        [ 0.14833201],\n",
       "        [ 0.00110099],\n",
       "        [ 0.3585788 ],\n",
       "        [ 0.19805086],\n",
       "        [-0.1667499 ],\n",
       "        [-0.03784555],\n",
       "        [-0.13622485],\n",
       "        [-0.07845785],\n",
       "        [ 0.1069521 ],\n",
       "        [ 0.29105625],\n",
       "        [-0.08011371],\n",
       "        [-0.3750172 ]], dtype=float32),\n",
       " array([-0.63451636], dtype=float32)]"
      ]
     },
     "execution_count": 37,
     "metadata": {},
     "output_type": "execute_result"
    }
   ],
   "source": [
    "model.get_weights()"
   ]
  },
  {
   "cell_type": "code",
   "execution_count": 38,
   "metadata": {},
   "outputs": [],
   "source": [
    "# Step 2: Helper Functions\n",
    "# Function to decode reviews\n",
    "def decode_review(encoded_review):\n",
    "    return ' '.join([reverse_word_index.get(i - 3, '?') for i in encoded_review])\n",
    "\n",
    "# Function to preprocess user input\n",
    "def preprocess_text(text):\n",
    "    words = text.lower().split()\n",
    "    encoded_review = [word_index.get(word, 2) + 3 for word in words]\n",
    "    padded_review = sequence.pad_sequences([encoded_review], maxlen=500)\n",
    "    return padded_review"
   ]
  },
  {
   "cell_type": "code",
   "execution_count": 39,
   "metadata": {},
   "outputs": [],
   "source": [
    "### Prediction  function\n",
    "\n",
    "def predict_sentiment(review):\n",
    "    preprocessed_input=preprocess_text(review)\n",
    "\n",
    "    prediction=model.predict(preprocessed_input)\n",
    "\n",
    "    sentiment = 'Positive' if prediction[0][0] > 0.5 else 'Negative'\n",
    "    \n",
    "    return sentiment, prediction[0][0]\n",
    "\n"
   ]
  },
  {
   "cell_type": "code",
   "execution_count": 41,
   "metadata": {},
   "outputs": [
    {
     "name": "stdout",
     "output_type": "stream",
     "text": [
      "\u001b[1m1/1\u001b[0m \u001b[32m━━━━━━━━━━━━━━━━━━━━\u001b[0m\u001b[37m\u001b[0m \u001b[1m7s\u001b[0m 7s/step\n",
      "Review: Bad\n",
      "Sentiment: Positive\n",
      "Prediction Score: 1.0\n"
     ]
    }
   ],
   "source": [
    "# Step 4: User Input and Prediction\n",
    "# Example review for prediction\n",
    "example_review = \"This movie was fantastic! The acting was great and the plot was thrilling.\"\n",
    "\n",
    "sentiment,score=predict_sentiment(example_review)\n",
    "\n",
    "print(f'Review: {example_review}')\n",
    "print(f'Sentiment: {sentiment}')\n",
    "print(f'Prediction Score: {score}')"
   ]
  },
  {
   "cell_type": "code",
   "execution_count": null,
   "metadata": {},
   "outputs": [],
   "source": []
  },
  {
   "cell_type": "code",
   "execution_count": null,
   "metadata": {},
   "outputs": [],
   "source": []
  },
  {
   "cell_type": "code",
   "execution_count": null,
   "metadata": {},
   "outputs": [],
   "source": []
  },
  {
   "cell_type": "code",
   "execution_count": null,
   "metadata": {},
   "outputs": [],
   "source": []
  }
 ],
 "metadata": {
  "kernelspec": {
   "display_name": "Python 3",
   "language": "python",
   "name": "python3"
  },
  "language_info": {
   "codemirror_mode": {
    "name": "ipython",
    "version": 3
   },
   "file_extension": ".py",
   "mimetype": "text/x-python",
   "name": "python",
   "nbconvert_exporter": "python",
   "pygments_lexer": "ipython3",
   "version": "3.12.7"
  }
 },
 "nbformat": 4,
 "nbformat_minor": 2
}
